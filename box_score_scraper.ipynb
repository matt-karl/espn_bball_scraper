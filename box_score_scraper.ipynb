{
 "cells": [
  {
   "cell_type": "code",
   "execution_count": 1,
   "metadata": {},
   "outputs": [],
   "source": [
    "import selenium\n",
    "from selenium import webdriver\n",
    "from selenium.webdriver.common.keys import Keys\n",
    "import time\n",
    "import requests\n",
    "import pandas as pd\n",
    "import datetime"
   ]
  },
  {
   "cell_type": "code",
   "execution_count": 2,
   "metadata": {},
   "outputs": [],
   "source": [
    "PATH = \"/Users/matthewkurkemelis/desktop/chromedriver\""
   ]
  },
  {
   "cell_type": "code",
   "execution_count": 251,
   "metadata": {
    "scrolled": false
   },
   "outputs": [
    {
     "name": "stdout",
     "output_type": "stream",
     "text": [
      "Villanova vs. Boston College - Box Score - November 25, 2020 - ESPN\n",
      "1-0 Villanova\n",
      "0-1 Boston College\n"
     ]
    }
   ],
   "source": [
    "# \"https://www.espn.com/mens-college-basketball/boxscore?gameId=401263376\" - Mich/IU\n",
    "# \"https://www.espn.com/mens-college-basketball/boxscore?gameId=401263380\" - Iowa/Ohio st\n",
    "# \"https://www.espn.com/mens-college-basketball/boxscore?gameId=401260006\" - Nova/BCdriver = selenium.webdriver.Chrome(PATH)\n",
    "driver = selenium.webdriver.Chrome(PATH)\n",
    "driver.get(\"https://www.espn.com/mens-college-basketball/boxscore?gameId=401260006\")\n",
    "print(driver.title)\n",
    "\n",
    "team_records = driver.find_elements_by_class_name(\"record\")\n",
    "team_long_names = driver.find_elements_by_class_name(\"long-name\")\n",
    "team_ranks = driver.find_elements_by_class_name(\"rank\")\n",
    "\n",
    "\n",
    "for i in range(len(team_long_names)):\n",
    "    print(team_records[i].text, team_long_names[i].text)\n",
    "    \n",
    "team_info = driver.find_elements_by_class_name(\"team-info\")\n",
    "team_info_list = []\n",
    "for i in range(len(team_info)):\n",
    "    team_info_list.append(team_info[i].text)\n",
    "    \n",
    "starter_header = driver.find_elements_by_xpath('//div[@class=\"col column-one gamepackage-away-wrap\"]//table[@class=\"mod-data\"]/thead[1]')\n",
    "bench_header = driver.find_elements_by_xpath('//div[@class=\"col column-one gamepackage-away-wrap\"]//table[@class=\"mod-data\"]/thead[2]')\n",
    "    \n",
    "away_players = driver.find_elements_by_xpath('//div[@class=\"col column-one gamepackage-away-wrap\"]//table[@class=\"mod-data\"]/tbody/tr')\n",
    "home_players = driver.find_elements_by_xpath('//div[@class=\"col column-two gamepackage-home-wrap\"]//table[@class=\"mod-data\"]/tbody/tr')\n",
    "\n",
    "headers_list = []\n",
    "for i in range(len(starter_header)):\n",
    "    headers_list.append(starter_header[i].text)\n",
    "\n",
    "away_box_score = []\n",
    "for _ in range(len(away_players)):\n",
    "    away_box_score.append(away_players[_].text)\n",
    "\n",
    "home_box_score = []\n",
    "for _ in range(len(home_players)):\n",
    "    home_box_score.append(home_players[_].text)\n",
    "\n",
    "driver.quit()"
   ]
  },
  {
   "cell_type": "code",
   "execution_count": 252,
   "metadata": {},
   "outputs": [
    {
     "data": {
      "text/plain": [
       "['3\\nVillanova\\n1-0', 'Boston College\\n0-1']"
      ]
     },
     "execution_count": 252,
     "metadata": {},
     "output_type": "execute_result"
    }
   ],
   "source": [
    "team_info_list"
   ]
  },
  {
   "cell_type": "code",
   "execution_count": 253,
   "metadata": {},
   "outputs": [],
   "source": [
    "# add position after starter column name\n",
    "for i in range(len(headers_list)):\n",
    "    headers_list[i] = headers_list[i].split()\n",
    "    headers_list[i][0] = \"PLAYERS\"\n",
    "    headers_list[i].insert(1, \"POS\")\n",
    "    headers_list[i].insert(4, \"FGA\")\n",
    "    headers_list[i].insert(6, \"3PTA\")\n",
    "    headers_list[i].insert(8, \"FTA\")"
   ]
  },
  {
   "cell_type": "code",
   "execution_count": 254,
   "metadata": {},
   "outputs": [
    {
     "data": {
      "text/plain": [
       "['PLAYERS',\n",
       " 'POS',\n",
       " 'MIN',\n",
       " 'FG',\n",
       " 'FGA',\n",
       " '3PT',\n",
       " '3PTA',\n",
       " 'FT',\n",
       " 'FTA',\n",
       " 'OREB',\n",
       " 'DREB',\n",
       " 'REB',\n",
       " 'AST',\n",
       " 'STL',\n",
       " 'BLK',\n",
       " 'TO',\n",
       " 'PF',\n",
       " 'PTS']"
      ]
     },
     "execution_count": 254,
     "metadata": {},
     "output_type": "execute_result"
    }
   ],
   "source": [
    "headers_list[0]"
   ]
  },
  {
   "cell_type": "code",
   "execution_count": 255,
   "metadata": {},
   "outputs": [
    {
     "data": {
      "text/plain": [
       "['J. Robinson-Earl\\nF 26 9-14 0-0 0-0 6 4 10 1 1 2 2 3 18',\n",
       " 'J. Samuels\\nF 28 3-6 1-1 0-3 1 8 9 1 0 1 1 4 7',\n",
       " 'J. Moore\\nG 36 5-10 2-6 2-3 0 0 0 1 0 0 1 4 14',\n",
       " 'C. Gillespie\\nG 38 5-16 1-6 4-4 1 2 3 7 1 0 1 0 15',\n",
       " 'C. Daniels\\nG 36 5-9 2-6 2-2 0 3 3 1 1 0 1 3 14',\n",
       " 'E. Dixon\\nF 4 0-0 0-0 0-0 0 1 1 0 0 0 2 1 0',\n",
       " 'C. Swider\\nF 16 2-4 2-4 0-0 1 4 5 1 0 0 0 1 6',\n",
       " 'B. Slater\\nF 16 1-1 0-0 0-0 0 1 1 0 0 0 0 1 2',\n",
       " 'TEAM 30-60 8-23 8-12 9 25 34 12 3 3 8 17 76',\n",
       " '  50.0% 34.8% 66.7%']"
      ]
     },
     "execution_count": 255,
     "metadata": {},
     "output_type": "execute_result"
    }
   ],
   "source": [
    "away_box_score"
   ]
  },
  {
   "cell_type": "code",
   "execution_count": 256,
   "metadata": {},
   "outputs": [],
   "source": [
    "away_team_totals = away_box_score[-2:]"
   ]
  },
  {
   "cell_type": "code",
   "execution_count": 257,
   "metadata": {},
   "outputs": [],
   "source": [
    "away_box_score = away_box_score[:-2]"
   ]
  },
  {
   "cell_type": "code",
   "execution_count": 258,
   "metadata": {},
   "outputs": [
    {
     "data": {
      "text/plain": [
       "['J. Robinson-Earl\\nF 26 9-14 0-0 0-0 6 4 10 1 1 2 2 3 18',\n",
       " 'J. Samuels\\nF 28 3-6 1-1 0-3 1 8 9 1 0 1 1 4 7',\n",
       " 'J. Moore\\nG 36 5-10 2-6 2-3 0 0 0 1 0 0 1 4 14',\n",
       " 'C. Gillespie\\nG 38 5-16 1-6 4-4 1 2 3 7 1 0 1 0 15',\n",
       " 'C. Daniels\\nG 36 5-9 2-6 2-2 0 3 3 1 1 0 1 3 14',\n",
       " 'E. Dixon\\nF 4 0-0 0-0 0-0 0 1 1 0 0 0 2 1 0',\n",
       " 'C. Swider\\nF 16 2-4 2-4 0-0 1 4 5 1 0 0 0 1 6',\n",
       " 'B. Slater\\nF 16 1-1 0-0 0-0 0 1 1 0 0 0 0 1 2']"
      ]
     },
     "execution_count": 258,
     "metadata": {},
     "output_type": "execute_result"
    }
   ],
   "source": [
    "away_box_score"
   ]
  },
  {
   "cell_type": "code",
   "execution_count": 259,
   "metadata": {},
   "outputs": [],
   "source": [
    "# convert web scraped box score data into usable format\n",
    "# should separate FG, 3PT, and FT into made and attempted FG, 3PT, and FT\n",
    "def convert_boxscore(box_score_list):\n",
    "    \"\"\"The only parameter is box_score_list, which is the\n",
    "       box score data that was web scraped from the internet.\n",
    "       box_score_list is a list of strings that contain the box\n",
    "       score data.\n",
    "       \n",
    "       The function will alter the input and return nothing. \n",
    "    \"\"\"\n",
    "    # loop goes through each string of box_score_list and seperates each value by \n",
    "    for i in range(len(box_score_list)):\n",
    "        player_name = [box_score_list[i].split(\"\\n\")[0]]\n",
    "        rest_of_boxscore_str = box_score_list[i].split(\"\\n\")[1].split(\"-\")\n",
    "        rest_of_boxscore_list = []\n",
    "        for j in rest_of_boxscore_str:\n",
    "            rest_of_boxscore_list += j.split()\n",
    "        box_score_list[i] = player_name + rest_of_boxscore_list\n",
    "            "
   ]
  },
  {
   "cell_type": "code",
   "execution_count": 260,
   "metadata": {},
   "outputs": [],
   "source": [
    "convert_boxscore(away_box_score)"
   ]
  },
  {
   "cell_type": "code",
   "execution_count": 261,
   "metadata": {},
   "outputs": [
    {
     "data": {
      "text/plain": [
       "[['J. Robinson-Earl',\n",
       "  'F',\n",
       "  '26',\n",
       "  '9',\n",
       "  '14',\n",
       "  '0',\n",
       "  '0',\n",
       "  '0',\n",
       "  '0',\n",
       "  '6',\n",
       "  '4',\n",
       "  '10',\n",
       "  '1',\n",
       "  '1',\n",
       "  '2',\n",
       "  '2',\n",
       "  '3',\n",
       "  '18'],\n",
       " ['J. Samuels',\n",
       "  'F',\n",
       "  '28',\n",
       "  '3',\n",
       "  '6',\n",
       "  '1',\n",
       "  '1',\n",
       "  '0',\n",
       "  '3',\n",
       "  '1',\n",
       "  '8',\n",
       "  '9',\n",
       "  '1',\n",
       "  '0',\n",
       "  '1',\n",
       "  '1',\n",
       "  '4',\n",
       "  '7'],\n",
       " ['J. Moore',\n",
       "  'G',\n",
       "  '36',\n",
       "  '5',\n",
       "  '10',\n",
       "  '2',\n",
       "  '6',\n",
       "  '2',\n",
       "  '3',\n",
       "  '0',\n",
       "  '0',\n",
       "  '0',\n",
       "  '1',\n",
       "  '0',\n",
       "  '0',\n",
       "  '1',\n",
       "  '4',\n",
       "  '14'],\n",
       " ['C. Gillespie',\n",
       "  'G',\n",
       "  '38',\n",
       "  '5',\n",
       "  '16',\n",
       "  '1',\n",
       "  '6',\n",
       "  '4',\n",
       "  '4',\n",
       "  '1',\n",
       "  '2',\n",
       "  '3',\n",
       "  '7',\n",
       "  '1',\n",
       "  '0',\n",
       "  '1',\n",
       "  '0',\n",
       "  '15'],\n",
       " ['C. Daniels',\n",
       "  'G',\n",
       "  '36',\n",
       "  '5',\n",
       "  '9',\n",
       "  '2',\n",
       "  '6',\n",
       "  '2',\n",
       "  '2',\n",
       "  '0',\n",
       "  '3',\n",
       "  '3',\n",
       "  '1',\n",
       "  '1',\n",
       "  '0',\n",
       "  '1',\n",
       "  '3',\n",
       "  '14'],\n",
       " ['E. Dixon',\n",
       "  'F',\n",
       "  '4',\n",
       "  '0',\n",
       "  '0',\n",
       "  '0',\n",
       "  '0',\n",
       "  '0',\n",
       "  '0',\n",
       "  '0',\n",
       "  '1',\n",
       "  '1',\n",
       "  '0',\n",
       "  '0',\n",
       "  '0',\n",
       "  '2',\n",
       "  '1',\n",
       "  '0'],\n",
       " ['C. Swider',\n",
       "  'F',\n",
       "  '16',\n",
       "  '2',\n",
       "  '4',\n",
       "  '2',\n",
       "  '4',\n",
       "  '0',\n",
       "  '0',\n",
       "  '1',\n",
       "  '4',\n",
       "  '5',\n",
       "  '1',\n",
       "  '0',\n",
       "  '0',\n",
       "  '0',\n",
       "  '1',\n",
       "  '6'],\n",
       " ['B. Slater',\n",
       "  'F',\n",
       "  '16',\n",
       "  '1',\n",
       "  '1',\n",
       "  '0',\n",
       "  '0',\n",
       "  '0',\n",
       "  '0',\n",
       "  '0',\n",
       "  '1',\n",
       "  '1',\n",
       "  '0',\n",
       "  '0',\n",
       "  '0',\n",
       "  '0',\n",
       "  '1',\n",
       "  '2']]"
      ]
     },
     "execution_count": 261,
     "metadata": {},
     "output_type": "execute_result"
    }
   ],
   "source": [
    "away_box_score"
   ]
  },
  {
   "cell_type": "code",
   "execution_count": 262,
   "metadata": {},
   "outputs": [],
   "source": [
    "home_team_totals = home_box_score[-2:]"
   ]
  },
  {
   "cell_type": "code",
   "execution_count": 263,
   "metadata": {},
   "outputs": [
    {
     "data": {
      "text/plain": [
       "['TEAM 26-55 8-26 7-11 7 24 31 10 6 9 11 16 67', '  47.3% 30.8% 63.6%']"
      ]
     },
     "execution_count": 263,
     "metadata": {},
     "output_type": "execute_result"
    }
   ],
   "source": [
    "home_team_totals"
   ]
  },
  {
   "cell_type": "code",
   "execution_count": 264,
   "metadata": {},
   "outputs": [],
   "source": [
    "home_box_score = home_box_score[:-2]"
   ]
  },
  {
   "cell_type": "code",
   "execution_count": 265,
   "metadata": {},
   "outputs": [
    {
     "data": {
      "text/plain": [
       "['C. Felder\\nF 28 3-4 1-2 0-0 2 2 4 0 2 4 0 0 7',\n",
       " 'S. Mitchell\\nF 37 0-2 0-1 3-4 2 10 12 0 2 4 0 1 3',\n",
       " 'J. Heath\\nG 33 7-14 2-8 0-0 1 3 4 2 0 1 0 2 16',\n",
       " 'W. Tabbs\\nG 21 4-13 2-5 1-1 0 1 1 0 0 0 2 4 11',\n",
       " 'M. Ashton-Langford\\nG 27 6-11 2-5 1-2 1 5 6 3 1 0 1 3 15',\n",
       " 'K. Williams\\nF 5 0-0 0-0 0-0 0 1 1 0 0 0 0 0 0',\n",
       " 'F. Scott\\nF 16 3-5 0-1 0-1 0 1 1 1 0 0 2 1 6',\n",
       " 'J. Vander Baan\\nC 0 0-0 0-0 0-0 0 0 0 0 0 0 0 0 0',\n",
       " 'D. Langford Jr.\\nG 9 0-0 0-0 0-0 0 1 1 2 1 0 2 2 0',\n",
       " 'R. Kelly\\nG 24 3-6 1-4 2-3 0 0 0 2 0 0 3 3 9']"
      ]
     },
     "execution_count": 265,
     "metadata": {},
     "output_type": "execute_result"
    }
   ],
   "source": [
    "home_box_score"
   ]
  },
  {
   "cell_type": "code",
   "execution_count": 266,
   "metadata": {},
   "outputs": [],
   "source": [
    "convert_boxscore(home_box_score)"
   ]
  },
  {
   "cell_type": "code",
   "execution_count": 267,
   "metadata": {},
   "outputs": [
    {
     "data": {
      "text/plain": [
       "[['C. Felder',\n",
       "  'F',\n",
       "  '28',\n",
       "  '3',\n",
       "  '4',\n",
       "  '1',\n",
       "  '2',\n",
       "  '0',\n",
       "  '0',\n",
       "  '2',\n",
       "  '2',\n",
       "  '4',\n",
       "  '0',\n",
       "  '2',\n",
       "  '4',\n",
       "  '0',\n",
       "  '0',\n",
       "  '7'],\n",
       " ['S. Mitchell',\n",
       "  'F',\n",
       "  '37',\n",
       "  '0',\n",
       "  '2',\n",
       "  '0',\n",
       "  '1',\n",
       "  '3',\n",
       "  '4',\n",
       "  '2',\n",
       "  '10',\n",
       "  '12',\n",
       "  '0',\n",
       "  '2',\n",
       "  '4',\n",
       "  '0',\n",
       "  '1',\n",
       "  '3'],\n",
       " ['J. Heath',\n",
       "  'G',\n",
       "  '33',\n",
       "  '7',\n",
       "  '14',\n",
       "  '2',\n",
       "  '8',\n",
       "  '0',\n",
       "  '0',\n",
       "  '1',\n",
       "  '3',\n",
       "  '4',\n",
       "  '2',\n",
       "  '0',\n",
       "  '1',\n",
       "  '0',\n",
       "  '2',\n",
       "  '16'],\n",
       " ['W. Tabbs',\n",
       "  'G',\n",
       "  '21',\n",
       "  '4',\n",
       "  '13',\n",
       "  '2',\n",
       "  '5',\n",
       "  '1',\n",
       "  '1',\n",
       "  '0',\n",
       "  '1',\n",
       "  '1',\n",
       "  '0',\n",
       "  '0',\n",
       "  '0',\n",
       "  '2',\n",
       "  '4',\n",
       "  '11'],\n",
       " ['M. Ashton-Langford',\n",
       "  'G',\n",
       "  '27',\n",
       "  '6',\n",
       "  '11',\n",
       "  '2',\n",
       "  '5',\n",
       "  '1',\n",
       "  '2',\n",
       "  '1',\n",
       "  '5',\n",
       "  '6',\n",
       "  '3',\n",
       "  '1',\n",
       "  '0',\n",
       "  '1',\n",
       "  '3',\n",
       "  '15'],\n",
       " ['K. Williams',\n",
       "  'F',\n",
       "  '5',\n",
       "  '0',\n",
       "  '0',\n",
       "  '0',\n",
       "  '0',\n",
       "  '0',\n",
       "  '0',\n",
       "  '0',\n",
       "  '1',\n",
       "  '1',\n",
       "  '0',\n",
       "  '0',\n",
       "  '0',\n",
       "  '0',\n",
       "  '0',\n",
       "  '0'],\n",
       " ['F. Scott',\n",
       "  'F',\n",
       "  '16',\n",
       "  '3',\n",
       "  '5',\n",
       "  '0',\n",
       "  '1',\n",
       "  '0',\n",
       "  '1',\n",
       "  '0',\n",
       "  '1',\n",
       "  '1',\n",
       "  '1',\n",
       "  '0',\n",
       "  '0',\n",
       "  '2',\n",
       "  '1',\n",
       "  '6'],\n",
       " ['J. Vander Baan',\n",
       "  'C',\n",
       "  '0',\n",
       "  '0',\n",
       "  '0',\n",
       "  '0',\n",
       "  '0',\n",
       "  '0',\n",
       "  '0',\n",
       "  '0',\n",
       "  '0',\n",
       "  '0',\n",
       "  '0',\n",
       "  '0',\n",
       "  '0',\n",
       "  '0',\n",
       "  '0',\n",
       "  '0'],\n",
       " ['D. Langford Jr.',\n",
       "  'G',\n",
       "  '9',\n",
       "  '0',\n",
       "  '0',\n",
       "  '0',\n",
       "  '0',\n",
       "  '0',\n",
       "  '0',\n",
       "  '0',\n",
       "  '1',\n",
       "  '1',\n",
       "  '2',\n",
       "  '1',\n",
       "  '0',\n",
       "  '2',\n",
       "  '2',\n",
       "  '0'],\n",
       " ['R. Kelly',\n",
       "  'G',\n",
       "  '24',\n",
       "  '3',\n",
       "  '6',\n",
       "  '1',\n",
       "  '4',\n",
       "  '2',\n",
       "  '3',\n",
       "  '0',\n",
       "  '0',\n",
       "  '0',\n",
       "  '2',\n",
       "  '0',\n",
       "  '0',\n",
       "  '3',\n",
       "  '3',\n",
       "  '9']]"
      ]
     },
     "execution_count": 267,
     "metadata": {},
     "output_type": "execute_result"
    }
   ],
   "source": [
    "home_box_score"
   ]
  },
  {
   "cell_type": "code",
   "execution_count": null,
   "metadata": {},
   "outputs": [],
   "source": []
  }
 ],
 "metadata": {
  "kernelspec": {
   "display_name": "Python 3",
   "language": "python",
   "name": "python3"
  },
  "language_info": {
   "codemirror_mode": {
    "name": "ipython",
    "version": 3
   },
   "file_extension": ".py",
   "mimetype": "text/x-python",
   "name": "python",
   "nbconvert_exporter": "python",
   "pygments_lexer": "ipython3",
   "version": "3.8.1"
  }
 },
 "nbformat": 4,
 "nbformat_minor": 4
}
